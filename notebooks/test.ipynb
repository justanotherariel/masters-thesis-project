{
 "cells": [
  {
   "cell_type": "code",
   "execution_count": null,
   "metadata": {},
   "outputs": [],
   "source": [
    "import gymnasium as gym\n",
    "import minigrid\n",
    "\n",
    "minigrid.register_minigrid_envs()"
   ]
  },
  {
   "cell_type": "code",
   "execution_count": null,
   "metadata": {},
   "outputs": [],
   "source": [
    "env = gym.make(\"MiniGrid-Empty-5x5-v0\", render_mode=\"human\")\n",
    "observation, info = env.reset(seed=42)\n",
    "for _ in range(100):\n",
    "   action = env.action_space.sample()\n",
    "   observation, reward, terminated, truncated, info = env.step(action)\n",
    "\n",
    "   if terminated or truncated:\n",
    "      observation, info = env.reset()\n",
    "env.close()"
   ]
  },
  {
   "cell_type": "code",
   "execution_count": 7,
   "metadata": {},
   "outputs": [
    {
     "name": "stdout",
     "output_type": "stream",
     "text": [
      "[241, 242, 243, 244, 245, 246, 247, 248, 249, 250, 251, 252, 253, 254, 255, 256]\n"
     ]
    },
    {
     "data": {
      "text/plain": [
       "17128897126274858187401657911837358987673600000"
      ]
     },
     "execution_count": 7,
     "metadata": {},
     "output_type": "execute_result"
    }
   ],
   "source": [
    "import math\n",
    "\n",
    "grid_size = (16, 16)\n",
    "actions = 6\n",
    "Objects = [\n",
    "    16, # Walls\n",
    "    1,  # Agent \n",
    "    1,  # Doors\n",
    "    1   # Keys\n",
    "]\n",
    "\n",
    "grid_size = grid_size[0] * grid_size[1]\n",
    "\n",
    "wall_space = math.prod([grid_size - x + 1 for x in range(Objects[0], 0, -1)])\n",
    "print([grid_size - x + 1 for x in range(Objects[0], 0, -1)])\n",
    "grid_size -= Objects[0]\n",
    "\n",
    "door_space = math.prod([grid_size - x for x in range(Objects[1], 0, -1)])\n",
    "grid_size -= Objects[1]\n",
    "\n",
    "key_space = math.prod([grid_size - x for x in range(Objects[2], 0, -1)])\n",
    "grid_size -= Objects[2]\n",
    "\n",
    "agent_space = grid_size\n",
    "action_space = actions\n",
    "\n",
    "\n",
    "\n",
    "state_space_size = wall_space * door_space * key_space * agent_space * action_space\n",
    "state_space_size"
   ]
  }
 ],
 "metadata": {
  "kernelspec": {
   "display_name": ".venv",
   "language": "python",
   "name": "python3"
  },
  "language_info": {
   "codemirror_mode": {
    "name": "ipython",
    "version": 3
   },
   "file_extension": ".py",
   "mimetype": "text/x-python",
   "name": "python",
   "nbconvert_exporter": "python",
   "pygments_lexer": "ipython3",
   "version": "3.11.8"
  }
 },
 "nbformat": 4,
 "nbformat_minor": 2
}
